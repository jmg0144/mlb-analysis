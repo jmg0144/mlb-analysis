{
 "cells": [
  {
   "cell_type": "markdown",
   "metadata": {},
   "source": [
    "# MLB Analysis"
   ]
  },
  {
   "cell_type": "markdown",
   "metadata": {},
   "source": []
  },
  {
   "cell_type": "markdown",
   "metadata": {},
   "source": [
    "## Import Libraries"
   ]
  },
  {
   "cell_type": "code",
   "execution_count": 1,
   "metadata": {},
   "outputs": [],
   "source": [
    "import pandas as pd\n",
    "import numpy as np\n",
    "import matplotlib as plt\n",
    "%matplotlib inline\n",
    "import seaborn as sns"
   ]
  },
  {
   "cell_type": "markdown",
   "metadata": {},
   "source": [
    "## Data"
   ]
  },
  {
   "cell_type": "code",
   "execution_count": 2,
   "metadata": {},
   "outputs": [],
   "source": [
    "df = pd.read_csv('data/2019_team_batting.csv')"
   ]
  },
  {
   "cell_type": "code",
   "execution_count": 3,
   "metadata": {},
   "outputs": [
    {
     "data": {
      "text/html": [
       "<div>\n",
       "<style scoped>\n",
       "    .dataframe tbody tr th:only-of-type {\n",
       "        vertical-align: middle;\n",
       "    }\n",
       "\n",
       "    .dataframe tbody tr th {\n",
       "        vertical-align: top;\n",
       "    }\n",
       "\n",
       "    .dataframe thead th {\n",
       "        text-align: right;\n",
       "    }\n",
       "</style>\n",
       "<table border=\"1\" class=\"dataframe\">\n",
       "  <thead>\n",
       "    <tr style=\"text-align: right;\">\n",
       "      <th></th>\n",
       "      <th>Team_name</th>\n",
       "      <th>Team_url</th>\n",
       "      <th>Team_AB</th>\n",
       "      <th>Team_R</th>\n",
       "      <th>Team_H</th>\n",
       "      <th>Team_Doubles</th>\n",
       "      <th>Team_Triples</th>\n",
       "      <th>Team_HR</th>\n",
       "      <th>Team_RBI</th>\n",
       "      <th>Team_TB</th>\n",
       "      <th>Team_BB</th>\n",
       "      <th>Team_SO</th>\n",
       "      <th>Team_SB</th>\n",
       "      <th>Team_AVG</th>\n",
       "      <th>Team_OBP</th>\n",
       "      <th>Team_SLG</th>\n",
       "      <th>Team_OPS</th>\n",
       "    </tr>\n",
       "  </thead>\n",
       "  <tbody>\n",
       "    <tr>\n",
       "      <th>0</th>\n",
       "      <td>Houston Astros</td>\n",
       "      <td>https://www.espn.com/mlb/team/_/name/hou/houst...</td>\n",
       "      <td>5,613</td>\n",
       "      <td>920</td>\n",
       "      <td>1,538</td>\n",
       "      <td>323</td>\n",
       "      <td>28</td>\n",
       "      <td>288</td>\n",
       "      <td>891</td>\n",
       "      <td>2,781</td>\n",
       "      <td>645</td>\n",
       "      <td>1,166</td>\n",
       "      <td>67</td>\n",
       "      <td>0.274</td>\n",
       "      <td>0.352</td>\n",
       "      <td>0.495</td>\n",
       "      <td>0.848</td>\n",
       "    </tr>\n",
       "    <tr>\n",
       "      <th>1</th>\n",
       "      <td>Minnesota Twins</td>\n",
       "      <td>https://www.espn.com/mlb/team/_/name/min/minne...</td>\n",
       "      <td>5,732</td>\n",
       "      <td>939</td>\n",
       "      <td>1,547</td>\n",
       "      <td>318</td>\n",
       "      <td>23</td>\n",
       "      <td>307</td>\n",
       "      <td>906</td>\n",
       "      <td>2,832</td>\n",
       "      <td>525</td>\n",
       "      <td>1,334</td>\n",
       "      <td>28</td>\n",
       "      <td>0.270</td>\n",
       "      <td>0.338</td>\n",
       "      <td>0.494</td>\n",
       "      <td>0.832</td>\n",
       "    </tr>\n",
       "    <tr>\n",
       "      <th>2</th>\n",
       "      <td>Boston Red Sox</td>\n",
       "      <td>https://www.espn.com/mlb/team/_/name/bos/bosto...</td>\n",
       "      <td>5,770</td>\n",
       "      <td>901</td>\n",
       "      <td>1,554</td>\n",
       "      <td>345</td>\n",
       "      <td>27</td>\n",
       "      <td>245</td>\n",
       "      <td>857</td>\n",
       "      <td>2,688</td>\n",
       "      <td>590</td>\n",
       "      <td>1,382</td>\n",
       "      <td>68</td>\n",
       "      <td>0.269</td>\n",
       "      <td>0.340</td>\n",
       "      <td>0.466</td>\n",
       "      <td>0.806</td>\n",
       "    </tr>\n",
       "    <tr>\n",
       "      <th>3</th>\n",
       "      <td>New York Yankees</td>\n",
       "      <td>https://www.espn.com/mlb/team/_/name/nyy/new-y...</td>\n",
       "      <td>5,583</td>\n",
       "      <td>943</td>\n",
       "      <td>1,493</td>\n",
       "      <td>290</td>\n",
       "      <td>17</td>\n",
       "      <td>306</td>\n",
       "      <td>904</td>\n",
       "      <td>2,735</td>\n",
       "      <td>569</td>\n",
       "      <td>1,437</td>\n",
       "      <td>55</td>\n",
       "      <td>0.267</td>\n",
       "      <td>0.339</td>\n",
       "      <td>0.490</td>\n",
       "      <td>0.829</td>\n",
       "    </tr>\n",
       "    <tr>\n",
       "      <th>4</th>\n",
       "      <td>Colorado Rockies</td>\n",
       "      <td>https://www.espn.com/mlb/team/_/name/col/color...</td>\n",
       "      <td>5,660</td>\n",
       "      <td>835</td>\n",
       "      <td>1,502</td>\n",
       "      <td>323</td>\n",
       "      <td>41</td>\n",
       "      <td>224</td>\n",
       "      <td>803</td>\n",
       "      <td>2,579</td>\n",
       "      <td>489</td>\n",
       "      <td>1,503</td>\n",
       "      <td>71</td>\n",
       "      <td>0.265</td>\n",
       "      <td>0.326</td>\n",
       "      <td>0.456</td>\n",
       "      <td>0.782</td>\n",
       "    </tr>\n",
       "  </tbody>\n",
       "</table>\n",
       "</div>"
      ],
      "text/plain": [
       "          Team_name                                           Team_url  \\\n",
       "0    Houston Astros  https://www.espn.com/mlb/team/_/name/hou/houst...   \n",
       "1   Minnesota Twins  https://www.espn.com/mlb/team/_/name/min/minne...   \n",
       "2    Boston Red Sox  https://www.espn.com/mlb/team/_/name/bos/bosto...   \n",
       "3  New York Yankees  https://www.espn.com/mlb/team/_/name/nyy/new-y...   \n",
       "4  Colorado Rockies  https://www.espn.com/mlb/team/_/name/col/color...   \n",
       "\n",
       "  Team_AB  Team_R Team_H  Team_Doubles  Team_Triples  Team_HR  Team_RBI  \\\n",
       "0   5,613     920  1,538           323            28      288       891   \n",
       "1   5,732     939  1,547           318            23      307       906   \n",
       "2   5,770     901  1,554           345            27      245       857   \n",
       "3   5,583     943  1,493           290            17      306       904   \n",
       "4   5,660     835  1,502           323            41      224       803   \n",
       "\n",
       "  Team_TB  Team_BB Team_SO  Team_SB  Team_AVG  Team_OBP  Team_SLG  Team_OPS  \n",
       "0   2,781      645   1,166       67     0.274     0.352     0.495     0.848  \n",
       "1   2,832      525   1,334       28     0.270     0.338     0.494     0.832  \n",
       "2   2,688      590   1,382       68     0.269     0.340     0.466     0.806  \n",
       "3   2,735      569   1,437       55     0.267     0.339     0.490     0.829  \n",
       "4   2,579      489   1,503       71     0.265     0.326     0.456     0.782  "
      ]
     },
     "execution_count": 3,
     "metadata": {},
     "output_type": "execute_result"
    }
   ],
   "source": [
    "df.head()"
   ]
  },
  {
   "cell_type": "code",
   "execution_count": 4,
   "metadata": {},
   "outputs": [
    {
     "name": "stdout",
     "output_type": "stream",
     "text": [
      "<class 'pandas.core.frame.DataFrame'>\n",
      "RangeIndex: 30 entries, 0 to 29\n",
      "Data columns (total 17 columns):\n",
      " #   Column        Non-Null Count  Dtype  \n",
      "---  ------        --------------  -----  \n",
      " 0   Team_name     30 non-null     object \n",
      " 1   Team_url      30 non-null     object \n",
      " 2   Team_AB       30 non-null     object \n",
      " 3   Team_R        30 non-null     int64  \n",
      " 4   Team_H        30 non-null     object \n",
      " 5   Team_Doubles  30 non-null     int64  \n",
      " 6   Team_Triples  30 non-null     int64  \n",
      " 7   Team_HR       30 non-null     int64  \n",
      " 8   Team_RBI      30 non-null     int64  \n",
      " 9   Team_TB       30 non-null     object \n",
      " 10  Team_BB       30 non-null     int64  \n",
      " 11  Team_SO       30 non-null     object \n",
      " 12  Team_SB       30 non-null     int64  \n",
      " 13  Team_AVG      30 non-null     float64\n",
      " 14  Team_OBP      30 non-null     float64\n",
      " 15  Team_SLG      30 non-null     float64\n",
      " 16  Team_OPS      30 non-null     float64\n",
      "dtypes: float64(4), int64(7), object(6)\n",
      "memory usage: 4.1+ KB\n"
     ]
    }
   ],
   "source": [
    "df.info()"
   ]
  },
  {
   "cell_type": "code",
   "execution_count": 5,
   "metadata": {},
   "outputs": [],
   "source": [
    "def convert_strings(column):\n",
    "    df[column] = df[column].str.replace(',','').astype(int)"
   ]
  },
  {
   "cell_type": "code",
   "execution_count": 6,
   "metadata": {},
   "outputs": [],
   "source": [
    "convert_strings('Team_AB')"
   ]
  },
  {
   "cell_type": "code",
   "execution_count": 7,
   "metadata": {},
   "outputs": [],
   "source": [
    "convert_strings('Team_H')"
   ]
  },
  {
   "cell_type": "code",
   "execution_count": 8,
   "metadata": {},
   "outputs": [],
   "source": [
    "convert_strings('Team_TB')"
   ]
  },
  {
   "cell_type": "code",
   "execution_count": 9,
   "metadata": {},
   "outputs": [],
   "source": [
    "convert_strings('Team_SO')"
   ]
  },
  {
   "cell_type": "code",
   "execution_count": 10,
   "metadata": {},
   "outputs": [
    {
     "name": "stdout",
     "output_type": "stream",
     "text": [
      "<class 'pandas.core.frame.DataFrame'>\n",
      "RangeIndex: 30 entries, 0 to 29\n",
      "Data columns (total 17 columns):\n",
      " #   Column        Non-Null Count  Dtype  \n",
      "---  ------        --------------  -----  \n",
      " 0   Team_name     30 non-null     object \n",
      " 1   Team_url      30 non-null     object \n",
      " 2   Team_AB       30 non-null     int64  \n",
      " 3   Team_R        30 non-null     int64  \n",
      " 4   Team_H        30 non-null     int64  \n",
      " 5   Team_Doubles  30 non-null     int64  \n",
      " 6   Team_Triples  30 non-null     int64  \n",
      " 7   Team_HR       30 non-null     int64  \n",
      " 8   Team_RBI      30 non-null     int64  \n",
      " 9   Team_TB       30 non-null     int64  \n",
      " 10  Team_BB       30 non-null     int64  \n",
      " 11  Team_SO       30 non-null     int64  \n",
      " 12  Team_SB       30 non-null     int64  \n",
      " 13  Team_AVG      30 non-null     float64\n",
      " 14  Team_OBP      30 non-null     float64\n",
      " 15  Team_SLG      30 non-null     float64\n",
      " 16  Team_OPS      30 non-null     float64\n",
      "dtypes: float64(4), int64(11), object(2)\n",
      "memory usage: 4.1+ KB\n"
     ]
    }
   ],
   "source": [
    "df.info()"
   ]
  },
  {
   "cell_type": "code",
   "execution_count": 17,
   "metadata": {},
   "outputs": [
    {
     "data": {
      "text/plain": [
       "0            Houston Astros\n",
       "1           Minnesota Twins\n",
       "2            Boston Red Sox\n",
       "3          New York Yankees\n",
       "4          Colorado Rockies\n",
       "5      Washington Nationals\n",
       "6        Pittsburgh Pirates\n",
       "7         Chicago White Sox\n",
       "8            Atlanta Braves\n",
       "9       Los Angeles Dodgers\n",
       "10            New York Mets\n",
       "11           Tampa Bay Rays\n",
       "12             Chicago Cubs\n",
       "13     Arizona Diamondbacks\n",
       "14        Cleveland Indians\n",
       "15        Oakland Athletics\n",
       "16            Texas Rangers\n",
       "17       Los Angeles Angels\n",
       "18       Kansas City Royals\n",
       "19        Milwaukee Brewers\n",
       "20        Baltimore Orioles\n",
       "21    Philadelphia Phillies\n",
       "22      St. Louis Cardinals\n",
       "23          Cincinnati Reds\n",
       "24            Miami Marlins\n",
       "25           Detroit Tigers\n",
       "26     San Francisco Giants\n",
       "27         San Diego Padres\n",
       "28         Seattle Mariners\n",
       "29        Toronto Blue Jays\n",
       "Name: Team_name, dtype: object"
      ]
     },
     "execution_count": 17,
     "metadata": {},
     "output_type": "execute_result"
    }
   ],
   "source": [
    "df.Team_name"
   ]
  },
  {
   "cell_type": "code",
   "execution_count": 25,
   "metadata": {},
   "outputs": [
    {
     "data": {
      "text/html": [
       "<div>\n",
       "<style scoped>\n",
       "    .dataframe tbody tr th:only-of-type {\n",
       "        vertical-align: middle;\n",
       "    }\n",
       "\n",
       "    .dataframe tbody tr th {\n",
       "        vertical-align: top;\n",
       "    }\n",
       "\n",
       "    .dataframe thead th {\n",
       "        text-align: right;\n",
       "    }\n",
       "</style>\n",
       "<table border=\"1\" class=\"dataframe\">\n",
       "  <thead>\n",
       "    <tr style=\"text-align: right;\">\n",
       "      <th></th>\n",
       "      <th>Team_R</th>\n",
       "      <th>Team_H</th>\n",
       "      <th>Team_Doubles</th>\n",
       "      <th>Team_Triples</th>\n",
       "      <th>Team_HR</th>\n",
       "      <th>Team_RBI</th>\n",
       "      <th>Team_TB</th>\n",
       "      <th>Team_BB</th>\n",
       "      <th>Team_SO</th>\n",
       "      <th>Team_SB</th>\n",
       "      <th>Team_AVG</th>\n",
       "      <th>Team_OBP</th>\n",
       "      <th>Team_SLG</th>\n",
       "      <th>Team_OPS</th>\n",
       "      <th>Postseason</th>\n",
       "    </tr>\n",
       "    <tr>\n",
       "      <th>Team_name</th>\n",
       "      <th></th>\n",
       "      <th></th>\n",
       "      <th></th>\n",
       "      <th></th>\n",
       "      <th></th>\n",
       "      <th></th>\n",
       "      <th></th>\n",
       "      <th></th>\n",
       "      <th></th>\n",
       "      <th></th>\n",
       "      <th></th>\n",
       "      <th></th>\n",
       "      <th></th>\n",
       "      <th></th>\n",
       "      <th></th>\n",
       "    </tr>\n",
       "  </thead>\n",
       "  <tbody>\n",
       "    <tr>\n",
       "      <th>Houston Astros</th>\n",
       "      <td>920</td>\n",
       "      <td>1538</td>\n",
       "      <td>323</td>\n",
       "      <td>28</td>\n",
       "      <td>288</td>\n",
       "      <td>891</td>\n",
       "      <td>2781</td>\n",
       "      <td>645</td>\n",
       "      <td>1166</td>\n",
       "      <td>67</td>\n",
       "      <td>0.274</td>\n",
       "      <td>0.352</td>\n",
       "      <td>0.495</td>\n",
       "      <td>0.848</td>\n",
       "      <td>1</td>\n",
       "    </tr>\n",
       "    <tr>\n",
       "      <th>Minnesota Twins</th>\n",
       "      <td>939</td>\n",
       "      <td>1547</td>\n",
       "      <td>318</td>\n",
       "      <td>23</td>\n",
       "      <td>307</td>\n",
       "      <td>906</td>\n",
       "      <td>2832</td>\n",
       "      <td>525</td>\n",
       "      <td>1334</td>\n",
       "      <td>28</td>\n",
       "      <td>0.270</td>\n",
       "      <td>0.338</td>\n",
       "      <td>0.494</td>\n",
       "      <td>0.832</td>\n",
       "      <td>1</td>\n",
       "    </tr>\n",
       "    <tr>\n",
       "      <th>Boston Red Sox</th>\n",
       "      <td>901</td>\n",
       "      <td>1554</td>\n",
       "      <td>345</td>\n",
       "      <td>27</td>\n",
       "      <td>245</td>\n",
       "      <td>857</td>\n",
       "      <td>2688</td>\n",
       "      <td>590</td>\n",
       "      <td>1382</td>\n",
       "      <td>68</td>\n",
       "      <td>0.269</td>\n",
       "      <td>0.340</td>\n",
       "      <td>0.466</td>\n",
       "      <td>0.806</td>\n",
       "      <td>0</td>\n",
       "    </tr>\n",
       "    <tr>\n",
       "      <th>New York Yankees</th>\n",
       "      <td>943</td>\n",
       "      <td>1493</td>\n",
       "      <td>290</td>\n",
       "      <td>17</td>\n",
       "      <td>306</td>\n",
       "      <td>904</td>\n",
       "      <td>2735</td>\n",
       "      <td>569</td>\n",
       "      <td>1437</td>\n",
       "      <td>55</td>\n",
       "      <td>0.267</td>\n",
       "      <td>0.339</td>\n",
       "      <td>0.490</td>\n",
       "      <td>0.829</td>\n",
       "      <td>1</td>\n",
       "    </tr>\n",
       "    <tr>\n",
       "      <th>Colorado Rockies</th>\n",
       "      <td>835</td>\n",
       "      <td>1502</td>\n",
       "      <td>323</td>\n",
       "      <td>41</td>\n",
       "      <td>224</td>\n",
       "      <td>803</td>\n",
       "      <td>2579</td>\n",
       "      <td>489</td>\n",
       "      <td>1503</td>\n",
       "      <td>71</td>\n",
       "      <td>0.265</td>\n",
       "      <td>0.326</td>\n",
       "      <td>0.456</td>\n",
       "      <td>0.782</td>\n",
       "      <td>0</td>\n",
       "    </tr>\n",
       "  </tbody>\n",
       "</table>\n",
       "</div>"
      ],
      "text/plain": [
       "                  Team_R  Team_H  Team_Doubles  Team_Triples  Team_HR  \\\n",
       "Team_name                                                               \n",
       "Houston Astros       920    1538           323            28      288   \n",
       "Minnesota Twins      939    1547           318            23      307   \n",
       "Boston Red Sox       901    1554           345            27      245   \n",
       "New York Yankees     943    1493           290            17      306   \n",
       "Colorado Rockies     835    1502           323            41      224   \n",
       "\n",
       "                  Team_RBI  Team_TB  Team_BB  Team_SO  Team_SB  Team_AVG  \\\n",
       "Team_name                                                                  \n",
       "Houston Astros         891     2781      645     1166       67     0.274   \n",
       "Minnesota Twins        906     2832      525     1334       28     0.270   \n",
       "Boston Red Sox         857     2688      590     1382       68     0.269   \n",
       "New York Yankees       904     2735      569     1437       55     0.267   \n",
       "Colorado Rockies       803     2579      489     1503       71     0.265   \n",
       "\n",
       "                  Team_OBP  Team_SLG  Team_OPS  Postseason  \n",
       "Team_name                                                   \n",
       "Houston Astros       0.352     0.495     0.848           1  \n",
       "Minnesota Twins      0.338     0.494     0.832           1  \n",
       "Boston Red Sox       0.340     0.466     0.806           0  \n",
       "New York Yankees     0.339     0.490     0.829           1  \n",
       "Colorado Rockies     0.326     0.456     0.782           0  "
      ]
     },
     "execution_count": 25,
     "metadata": {},
     "output_type": "execute_result"
    }
   ],
   "source": [
    "df_2 = df.drop(['Team_url', 'Team_AB'], axis=1)\n",
    "df_2['Postseason'] = [1, 1, 0, 1, 0, 1, 0, 0, 1, 1, 0, 1, 0, 0, \n",
    "                      0, 1, 0, 0, 0, 1, 0, 0, 1, 0, 0, 0, 0, 0, 0, 0]\n",
    "df_2.set_index('Team_name',inplace=True)\n",
    "df_2.head()"
   ]
  },
  {
   "cell_type": "code",
   "execution_count": 30,
   "metadata": {},
   "outputs": [
    {
     "data": {
      "text/html": [
       "<div>\n",
       "<style scoped>\n",
       "    .dataframe tbody tr th:only-of-type {\n",
       "        vertical-align: middle;\n",
       "    }\n",
       "\n",
       "    .dataframe tbody tr th {\n",
       "        vertical-align: top;\n",
       "    }\n",
       "\n",
       "    .dataframe thead th {\n",
       "        text-align: right;\n",
       "    }\n",
       "</style>\n",
       "<table border=\"1\" class=\"dataframe\">\n",
       "  <thead>\n",
       "    <tr style=\"text-align: right;\">\n",
       "      <th></th>\n",
       "      <th>Team_AVG</th>\n",
       "      <th>Team_BB</th>\n",
       "      <th>Team_Doubles</th>\n",
       "      <th>Team_H</th>\n",
       "      <th>Team_HR</th>\n",
       "      <th>Team_OBP</th>\n",
       "      <th>Team_OPS</th>\n",
       "      <th>Team_R</th>\n",
       "      <th>Team_RBI</th>\n",
       "      <th>Team_SB</th>\n",
       "      <th>Team_SLG</th>\n",
       "      <th>Team_SO</th>\n",
       "      <th>Team_TB</th>\n",
       "      <th>Team_Triples</th>\n",
       "    </tr>\n",
       "    <tr>\n",
       "      <th>Postseason</th>\n",
       "      <th></th>\n",
       "      <th></th>\n",
       "      <th></th>\n",
       "      <th></th>\n",
       "      <th></th>\n",
       "      <th></th>\n",
       "      <th></th>\n",
       "      <th></th>\n",
       "      <th></th>\n",
       "      <th></th>\n",
       "      <th></th>\n",
       "      <th></th>\n",
       "      <th></th>\n",
       "      <th></th>\n",
       "    </tr>\n",
       "  </thead>\n",
       "  <tbody>\n",
       "    <tr>\n",
       "      <th>0</th>\n",
       "      <td>0.2490</td>\n",
       "      <td>501.8</td>\n",
       "      <td>280.75</td>\n",
       "      <td>1382.1</td>\n",
       "      <td>209.1</td>\n",
       "      <td>0.31695</td>\n",
       "      <td>0.7395</td>\n",
       "      <td>745.2</td>\n",
       "      <td>713.65</td>\n",
       "      <td>75.4</td>\n",
       "      <td>0.42255</td>\n",
       "      <td>1447.05</td>\n",
       "      <td>2344.95</td>\n",
       "      <td>27.4</td>\n",
       "    </tr>\n",
       "    <tr>\n",
       "      <th>1</th>\n",
       "      <td>0.2585</td>\n",
       "      <td>585.9</td>\n",
       "      <td>291.60</td>\n",
       "      <td>1439.7</td>\n",
       "      <td>259.4</td>\n",
       "      <td>0.33520</td>\n",
       "      <td>0.7944</td>\n",
       "      <td>856.3</td>\n",
       "      <td>819.80</td>\n",
       "      <td>77.2</td>\n",
       "      <td>0.45890</td>\n",
       "      <td>1388.20</td>\n",
       "      <td>2556.90</td>\n",
       "      <td>23.7</td>\n",
       "    </tr>\n",
       "  </tbody>\n",
       "</table>\n",
       "</div>"
      ],
      "text/plain": [
       "            Team_AVG  Team_BB  Team_Doubles  Team_H  Team_HR  Team_OBP  \\\n",
       "Postseason                                                               \n",
       "0             0.2490    501.8        280.75  1382.1    209.1   0.31695   \n",
       "1             0.2585    585.9        291.60  1439.7    259.4   0.33520   \n",
       "\n",
       "            Team_OPS  Team_R  Team_RBI  Team_SB  Team_SLG  Team_SO  Team_TB  \\\n",
       "Postseason                                                                    \n",
       "0             0.7395   745.2    713.65     75.4   0.42255  1447.05  2344.95   \n",
       "1             0.7944   856.3    819.80     77.2   0.45890  1388.20  2556.90   \n",
       "\n",
       "            Team_Triples  \n",
       "Postseason                \n",
       "0                   27.4  \n",
       "1                   23.7  "
      ]
     },
     "execution_count": 30,
     "metadata": {},
     "output_type": "execute_result"
    }
   ],
   "source": [
    "grouped = pd.pivot_table(df_2, index='Postseason')\n",
    "grouped"
   ]
  },
  {
   "cell_type": "code",
   "execution_count": 12,
   "metadata": {},
   "outputs": [],
   "source": [
    "plt.style.use('fivethirtyeight')"
   ]
  },
  {
   "cell_type": "code",
   "execution_count": 23,
   "metadata": {},
   "outputs": [
    {
     "data": {
      "image/png": "[encoded data removed]",
      "text/plain": [
       "<Figure size 432x288 with 2 Axes>"
      ]
     },
     "metadata": {},
     "output_type": "display_data"
    }
   ],
   "source": [
    "#Create heatmap to check for highly correlated features.\n",
    "sns.heatmap(df_2.corr(), center=0);"
   ]
  },
  {
   "cell_type": "code",
   "execution_count": 13,
   "metadata": {},
   "outputs": [],
   "source": [
    "def plot_dist(column):\n",
    "    sns.displot(x=df_2[column],kind='hist',kde=True);"
   ]
  },
  {
   "cell_type": "code",
   "execution_count": 14,
   "metadata": {},
   "outputs": [
    {
     "data": {
      "image/png": "[encoded data removed]",
      "text/plain": [
       "<Figure size 360x360 with 1 Axes>"
      ]
     },
     "metadata": {},
     "output_type": "display_data"
    }
   ],
   "source": [
    "plot_dist('Team_R')"
   ]
  },
  {
   "cell_type": "code",
   "execution_count": 15,
   "metadata": {},
   "outputs": [
    {
     "data": {
      "image/png": "[encoded data removed]",
      "text/plain": [
       "<Figure size 360x360 with 1 Axes>"
      ]
     },
     "metadata": {},
     "output_type": "display_data"
    }
   ],
   "source": [
    "plot_dist('Team_SB')"
   ]
  },
  {
   "cell_type": "code",
   "execution_count": 16,
   "metadata": {},
   "outputs": [
    {
     "data": {
      "image/png": "[encoded data removed]",
      "text/plain": [
       "<Figure size 360x360 with 1 Axes>"
      ]
     },
     "metadata": {},
     "output_type": "display_data"
    }
   ],
   "source": [
    "plot_dist('Team_AVG')"
   ]
  },
  {
   "cell_type": "code",
   "execution_count": null,
   "metadata": {},
   "outputs": [],
   "source": []
  }
 ],
 "metadata": {
  "kernelspec": {
   "display_name": "Python 3",
   "language": "python",
   "name": "python3"
  },
  "language_info": {
   "codemirror_mode": {
    "name": "ipython",
    "version": 3
   },
   "file_extension": ".py",
   "mimetype": "text/x-python",
   "name": "python",
   "nbconvert_exporter": "python",
   "pygments_lexer": "ipython3",
   "version": "3.8.5"
  }
 },
 "nbformat": 4,
 "nbformat_minor": 4
}
